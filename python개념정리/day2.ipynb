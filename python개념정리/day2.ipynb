{
 "cells": [
  {
   "cell_type": "markdown",
   "metadata": {},
   "source": [
    "# Type Casting, String Validator, String formatting\n",
    "\n",
    "\n",
    "> type casting : 형변환해준다 str(number) -> int(number) = str에서 int형으로  \n",
    "\n",
    "> 문자열\n",
    "> - JupyterNotebook[1:6:2] 인덱스값1에서 5(6-1)까지 2칸씩 떨어진 값을 구해준다 \"uye\"\n",
    "> - JupyterNotebook[:9:3] 인덱스값0에서 8(9-1)까지 3칸씩 떨어진 값을 구해준다 \"Jyr\"\n",
    "> - JupyterNotebook[-2:-7:-2] 뒤에서부터 인덱스값-2에서 -6까지 1칸씩 떨어진 값을 구해준다 \"bet\"  (이때 뒤에서부터는 인덱스값이 1부터 시작)\n",
    "\n",
    "> 문자열 함수\n",
    "> - count : count('a') a가 몇개인지 카운트\n",
    "> - replace : replace('a','b') a를 b로 대체\n",
    "> - join : ','.join('jupyter') j,u,p,y,t,e,r 각 문자사이사이 ,로 합쳐준다\n",
    "> - split : 'jup yter'.split(' ') 공백을 기준으로 문자열을 나누어준다 \"['jup', 'yter']\"출력\n",
    "> - strip : target.strip('.,') 빈공백에 있는 .,을 삭제해준다 ex) __#1-1__ 참고\n",
    "\n",
    "> string validator \n",
    "- isalpha() : 알파벳인가\n",
    "- isalnum() : 알파벳+숫자인가\n",
    "- isdigit() : 숫자인가\n",
    "- islower() : 소문자인가\n",
    "- isupper() : 대문자인가\n",
    "\n",
    "> string formatting __#1-2__ 참고\n",
    "- I have a {}, I like {}.format('dog','big dog')\n",
    "- f ' I have a dog, I like big dog '"
   ]
  },
  {
   "cell_type": "code",
   "execution_count": 22,
   "metadata": {},
   "outputs": [
    {
     "name": "stdout",
     "output_type": "stream",
     "text": [
      "people\n"
     ]
    }
   ],
   "source": [
    "#문자열은 한전 선언되면 바꿀 수 없다. 특정 문자열을 바꿀 수 있는 방법은 ?\n",
    "# 문자열을 잘라서 특정문자열을 바꿔줄수 있다\n",
    "target = 'puople'\n",
    "a = target[:1]\n",
    "b= target[2:]\n",
    "print(f'{a}e{b}')"
   ]
  },
  {
   "cell_type": "markdown",
   "metadata": {},
   "source": [
    "__# 1-1__ strip\n"
   ]
  },
  {
   "cell_type": "code",
   "execution_count": 25,
   "metadata": {},
   "outputs": [
    {
     "data": {
      "text/plain": [
       "'hello, python,,,fast'"
      ]
     },
     "execution_count": 25,
     "metadata": {},
     "output_type": "execute_result"
    }
   ],
   "source": [
    "target ='.............hello, python,,,fast,,,,,,,'\n",
    "target.strip('.,')"
   ]
  },
  {
   "cell_type": "markdown",
   "metadata": {},
   "source": [
    "__# 1-2__ 다음 string formatting을 알아보자 👉"
   ]
  },
  {
   "cell_type": "code",
   "execution_count": 6,
   "metadata": {},
   "outputs": [
    {
     "name": "stdout",
     "output_type": "stream",
     "text": [
      "I have a      apple, I have a pen.\n",
      "I have a apple     , I have a pen.\n",
      "I have a   apple   , I have a pen.\n",
      "I have a _____apple, I have a pen.\n",
      "I have a **apple***, I have a pen.\n"
     ]
    }
   ],
   "source": [
    "print('I have a {1:>10}, I have a {0}.'.format('pen','apple')) # > 앞을띄어주자\n",
    "print('I have a {1:<10}, I have a {0}.'.format('pen','apple')) # < 뒤를 띄어주자\n",
    "print('I have a {1:^10}, I have a {0}.'.format('pen','apple')) # ^ 가운데정렬\n",
    "print('I have a {1:_>10}, I have a {0}.'.format('pen','apple')) # ^ _로 빈칸채움\n",
    "print('I have a {1:*^10}, I have a {0}.'.format('pen','apple')) # ^ *로 빈칸채움"
   ]
  },
  {
   "cell_type": "markdown",
   "metadata": {},
   "source": [
    "# List\n",
    "__list 는 삭제,수정 등 변경을 할 수 있다__\n",
    "- append : zoo.append('lion') lion이라는 문자열을 zoo값의 맨 뒤에 추가된다\n",
    "- insert : zoo.insert(3,'horse') horse라는 문자열을 인덱스값3에 삽입한다\n",
    "- remove : zoo.remove(1) 인덱스1번째에 있는 값을 지워준다\n",
    "- pop : zoo.pop(2) 인덱스2번째에 있는 값을 뺀 후 제거해준다, 값을 다른 변수에 할당 할 수 있다\n",
    "- sort : zoo.sort() 오름차순 정렬\n",
    "- reverse : zoo.reverse() 내림차순 정렬, zoo.sort(reverse=True)로 직접 변경해줄 수 있다\n",
    "- index값 : zoo[3] index의 값을 이용해 특정한 값을 출력\n",
    "- extend : zoo.extend([3,5]) 3,5를 리스트에 같은 배열로 추가해준다\n",
    "<br>\n",
    "\n",
    "- membership operstor   \n",
    "> 뒤에 있는 리스트 조회할때 해당 값이 있는지 없는지 조회해 bool 타입으로 출력해준다 __#2-1 참고__"
   ]
  },
  {
   "cell_type": "markdown",
   "metadata": {},
   "source": [
    "__#2-1__ membership operator"
   ]
  },
  {
   "cell_type": "code",
   "execution_count": 27,
   "metadata": {},
   "outputs": [
    {
     "data": {
      "text/plain": [
       "True"
      ]
     },
     "execution_count": 27,
     "metadata": {},
     "output_type": "execute_result"
    }
   ],
   "source": [
    "zoo = ['rabbit','dog','cat']\n",
    "'dog' in zoo"
   ]
  },
  {
   "cell_type": "code",
   "execution_count": 28,
   "metadata": {},
   "outputs": [
    {
     "data": {
      "text/plain": [
       "False"
      ]
     },
     "execution_count": 28,
     "metadata": {},
     "output_type": "execute_result"
    }
   ],
   "source": [
    "'cat' not in zoo"
   ]
  },
  {
   "cell_type": "markdown",
   "metadata": {},
   "source": [
    "## Tuple\n",
    "__tuple은 변경이 불가능하다. 리스트와 응용이 가능하다__ "
   ]
  },
  {
   "cell_type": "code",
   "execution_count": 31,
   "metadata": {},
   "outputs": [
    {
     "name": "stdout",
     "output_type": "stream",
     "text": [
      "hello\n",
      "world\n"
     ]
    }
   ],
   "source": [
    "#튜플을 써서 함수에 나오는 두개의 값을 동시에 변수에 넣어줄 수 있다\n",
    "def split_hello(word):\n",
    "    result =  word.split()\n",
    "    return result[0], result[1]\n",
    "\n",
    "(greet, word) = split_hello('hello world')\n",
    "print(greet)\n",
    "print(word)"
   ]
  },
  {
   "cell_type": "code",
   "execution_count": 35,
   "metadata": {},
   "outputs": [
    {
     "name": "stdout",
     "output_type": "stream",
     "text": [
      "바꾸기 전 ('world', 'hello')\n",
      "바꾼 후('hello', 'world')\n"
     ]
    }
   ],
   "source": [
    "#이때 튜플을 이용해 두개의 값을 간단하게 바꿀 수 있다 hello world -> world hello\n",
    "print(f'바꾸기 전 {greet, word}')\n",
    "(greet, word) = (word, greet)\n",
    "print(f'바꾼 후{greet,word}')"
   ]
  },
  {
   "cell_type": "code",
   "execution_count": 36,
   "metadata": {},
   "outputs": [
    {
     "data": {
      "text/plain": [
       "[13, 14, 15, 16]"
      ]
     },
     "execution_count": 36,
     "metadata": {},
     "output_type": "execute_result"
    }
   ],
   "source": [
    "#튜플을 리스트로 바꾼뒤 값을 변경후 다시 튜플로 바꾸어 줄 수 있다 \n",
    "grade = (13,14,15)\n",
    "listed_grade = list(grade)\n",
    "listed_grade.append(16)\n",
    "listed_grade"
   ]
  },
  {
   "cell_type": "code",
   "execution_count": null,
   "metadata": {},
   "outputs": [],
   "source": []
  }
 ],
 "metadata": {
  "kernelspec": {
   "display_name": "Python 3",
   "language": "python",
   "name": "python3"
  },
  "language_info": {
   "codemirror_mode": {
    "name": "ipython",
    "version": 3
   },
   "file_extension": ".py",
   "mimetype": "text/x-python",
   "name": "python",
   "nbconvert_exporter": "python",
   "pygments_lexer": "ipython3",
   "version": "3.8.3"
  },
  "toc": {
   "base_numbering": 1,
   "nav_menu": {},
   "number_sections": true,
   "sideBar": true,
   "skip_h1_title": false,
   "title_cell": "Table of Contents",
   "title_sidebar": "Contents",
   "toc_cell": false,
   "toc_position": {},
   "toc_section_display": true,
   "toc_window_display": false
  }
 },
 "nbformat": 4,
 "nbformat_minor": 4
}
