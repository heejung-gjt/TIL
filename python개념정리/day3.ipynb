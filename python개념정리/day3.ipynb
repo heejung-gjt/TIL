{
 "cells": [
  {
   "cell_type": "markdown",
   "metadata": {},
   "source": [
    "### dictionary (iterable 반복 가능한 개체)\n",
    "딕셔너리의 선언하는 방법은 3가지 \n",
    "\n",
    "- ganji = {'ja':0, 'chuk':1}   \n",
    "- ganji = dict(ja=0, chuk=1)\n",
    "- dict([('ja',0)])   \n",
    "\n",
    "딕셔너리 옵션\n",
    "- value에 값 넣어주기 : a['key']='hahah'   \n",
    "- del이용해  value값 지우기 : del ganji['ja']\n",
    "- ganji.keys() 키값 출력 | ganji.values() 값출력 | ganji.items() 키값,value값 출력   \n",
    "- popitem : 딕셔너리의 마지막 쌍을 삭제해준다   \n",
    "- get : key에 대응되는 value값을 돌려준다. 이때 key에 대응되는 value값이 없으면 지정해놓은 값이 출력된다 get('a','nope') -> nope가 출력됨   \n",
    "- setdefault : 주어진 키에 대한 값을 반환한다. 딕셔너리에 키가 없다면 None 또는 주어진 키-값 쌍을 추가한다\n"
   ]
  },
  {
   "cell_type": "code",
   "execution_count": 7,
   "metadata": {},
   "outputs": [
    {
     "name": "stdout",
     "output_type": "stream",
     "text": [
      "{'ja': 0, 'chuk': 1}\n"
     ]
    }
   ],
   "source": [
    "ganji = {'ja':0, 'chuk':1}\n",
    "print(ganji)"
   ]
  },
  {
   "cell_type": "code",
   "execution_count": 8,
   "metadata": {},
   "outputs": [
    {
     "name": "stdout",
     "output_type": "stream",
     "text": [
      "{'ja': 0, 'chuk': 1}\n"
     ]
    }
   ],
   "source": [
    "ganji = dict(ja=0, chuk=1)\n",
    "print(ganji)"
   ]
  },
  {
   "cell_type": "code",
   "execution_count": 9,
   "metadata": {},
   "outputs": [
    {
     "name": "stdout",
     "output_type": "stream",
     "text": [
      "{'ja': 0, 'chuk': 1}\n"
     ]
    }
   ],
   "source": [
    "ganji = dict([('ja',0), ('chuk',1)])\n",
    "print(ganji)"
   ]
  },
  {
   "cell_type": "code",
   "execution_count": 10,
   "metadata": {},
   "outputs": [
    {
     "name": "stdout",
     "output_type": "stream",
     "text": [
      "{'chuk': 1}\n"
     ]
    }
   ],
   "source": [
    "#삭제\n",
    "del ganji['ja']\n",
    "print(ganji)"
   ]
  },
  {
   "cell_type": "code",
   "execution_count": 90,
   "metadata": {},
   "outputs": [
    {
     "data": {
      "text/plain": [
       "{'korean': 79, 'math': 79, 'english': 79, 'social': [79, 80, 81], 'Ethics': []}"
      ]
     },
     "execution_count": 90,
     "metadata": {},
     "output_type": "execute_result"
    }
   ],
   "source": [
    "#만약 ethics의 value값이 없으면 빈[] 만들어라\n",
    "hong_midterm.setdefault('Ethics',[])\n",
    "hong_midterm"
   ]
  },
  {
   "cell_type": "code",
   "execution_count": 98,
   "metadata": {},
   "outputs": [
    {
     "name": "stdout",
     "output_type": "stream",
     "text": [
      "{'korean': 79, 'math': 79, 'english': 79, 'social': [79, 80, 81], 'Ethics': 10}\n"
     ]
    }
   ],
   "source": [
    "#키 Ethics의 valuew값 업데이트 \n",
    "hong_midterm['Ethics'] = 10\n",
    "print(hong_midterm)"
   ]
  },
  {
   "cell_type": "code",
   "execution_count": 19,
   "metadata": {},
   "outputs": [
    {
     "name": "stdout",
     "output_type": "stream",
     "text": [
      "hello i am Hong Gil-dong, from seoul,KR\n"
     ]
    }
   ],
   "source": [
    "# **some_dict로 name, locale를 불러올 수 있다\n",
    "some_dict = {'name':'Hong Gil-dong','locale':'seoul,KR'}\n",
    "print('hello i am {name}, from {locale}'.format(**some_dict)) "
   ]
  },
  {
   "cell_type": "markdown",
   "metadata": {},
   "source": [
    "## set"
   ]
  },
  {
   "cell_type": "code",
   "execution_count": 20,
   "metadata": {},
   "outputs": [
    {
     "data": {
      "text/plain": [
       "{'a', 'c', 'm', 'p', 's', 'u'}"
      ]
     },
     "execution_count": 20,
     "metadata": {},
     "output_type": "execute_result"
    }
   ],
   "source": [
    " # set은 중복되는 원소 없애준 후 출력해준다 \n",
    "    #리스트의 중복요소를 없애주는 가장 좋은 방법 set을 이용해주자 (list->set->list 해주면 끗!)\n",
    "a_word ='campus'\n",
    "b_word = 'python'\n",
    "set(a_word)\n"
   ]
  },
  {
   "cell_type": "code",
   "execution_count": 21,
   "metadata": {},
   "outputs": [],
   "source": [
    "a_set = set(a_word)\n",
    "b_set = set(b_word)"
   ]
  },
  {
   "cell_type": "code",
   "execution_count": 22,
   "metadata": {},
   "outputs": [
    {
     "data": {
      "text/plain": [
       "{'a', 'c', 'h', 'm', 'n', 'o', 'p', 's', 't', 'u', 'y'}"
      ]
     },
     "execution_count": 22,
     "metadata": {},
     "output_type": "execute_result"
    }
   ],
   "source": [
    "a_set | b_set  # | == or == 합집합"
   ]
  },
  {
   "cell_type": "code",
   "execution_count": 23,
   "metadata": {},
   "outputs": [
    {
     "data": {
      "text/plain": [
       "{'p'}"
      ]
     },
     "execution_count": 23,
     "metadata": {},
     "output_type": "execute_result"
    }
   ],
   "source": [
    "a_set & b_set  # 교집합 == & == and"
   ]
  },
  {
   "cell_type": "code",
   "execution_count": 25,
   "metadata": {},
   "outputs": [
    {
     "data": {
      "text/plain": [
       "{'a', 'c', 'm', 's', 'u'}"
      ]
     },
     "execution_count": 25,
     "metadata": {},
     "output_type": "execute_result"
    }
   ],
   "source": [
    "a_set - b_set  # 차집합"
   ]
  },
  {
   "cell_type": "markdown",
   "metadata": {},
   "source": [
    "### dic 이용한 예제\n",
    "\n"
   ]
  },
  {
   "cell_type": "code",
   "execution_count": 52,
   "metadata": {},
   "outputs": [],
   "source": [
    "# user_row인 딕셔너리를 리스트인 user_info에 넣는다\n",
    "user_info = []"
   ]
  },
  {
   "cell_type": "code",
   "execution_count": 34,
   "metadata": {},
   "outputs": [
    {
     "name": "stdout",
     "output_type": "stream",
     "text": [
      "[{'name': 'Johnny Silverhand', 'locale': 'Night City', 'age': 120, 'username': 'foo-bar'}, {'name': 'F||r', 'locale': 'Busan, Korea', 'age': 31, 'username': 'foo-bar'}]\n"
     ]
    }
   ],
   "source": [
    "user_row = dict([('name','F||r'),\n",
    "                 ('locale', 'Busan, Korea'),\n",
    "                 ('age', 31),\n",
    "                 ('username', 'foo-bar')\n",
    "                ])\n",
    "user_info.append(user_row)\n",
    "print(user_info)"
   ]
  },
  {
   "cell_type": "code",
   "execution_count": 40,
   "metadata": {},
   "outputs": [
    {
     "name": "stdout",
     "output_type": "stream",
     "text": [
      "[{'name': 'HEE', 'locale': 'Night City', 'age': 120, 'username': 'foo-bar'}, {'name': 'F||r', 'locale': 'Busan, Korea', 'age': 31, 'username': 'foo-bar'}]\n"
     ]
    }
   ],
   "source": [
    "#'F||r' name을 가지고 있는 값을 HEE로 바꾸어라\n",
    "user_info[0]['name']='HEE'\n",
    "print(user_info)"
   ]
  },
  {
   "cell_type": "code",
   "execution_count": 46,
   "metadata": {},
   "outputs": [
    {
     "name": "stdout",
     "output_type": "stream",
     "text": [
      "[('name', 'HEE'), ('locale', 'Night City'), ('age', 120), ('username', 'foo-bar')]\n",
      "[('name', 'F||r'), ('locale', 'Busan, Korea'), ('age', 31), ('username', 'foo-bar')]\n"
     ]
    }
   ],
   "source": [
    "#list의 모든 아이템에 대해 key와 value를 모두 출력해라\n",
    "for info in user_info:\n",
    "    print(list(info.items()))\n",
    "    "
   ]
  },
  {
   "cell_type": "code",
   "execution_count": 51,
   "metadata": {},
   "outputs": [
    {
     "name": "stdout",
     "output_type": "stream",
     "text": [
      "['Ulsan', 'Seoul', 'Jeju', 'Gwangju', 'Daejeon', 'Daegu', 'Busan']\n"
     ]
    }
   ],
   "source": [
    "#아래 list의 중복 아이템을 제거한 뒤 내림차순으로 정렬해라\n",
    "cities = [\n",
    "    'Daejeon', 'Ulsan', 'Seoul', 'Jeju',\n",
    "    'Busan', 'Ulsan', 'Daegu', 'Daejeon',\n",
    "    'Seoul', 'Seoul', 'Daejeon', 'Gwangju',\n",
    "    'Busan', 'Daegu', 'Gwangju', 'Daejeon', \n",
    "    'Ulsan', 'Jeju', 'Gwangju', 'Seoul'\n",
    "]\n",
    "set_cities = list(set(cities))\n",
    "set_cities.sort(reverse=True)\n",
    "print(set_cities)"
   ]
  }
 ],
 "metadata": {
  "kernelspec": {
   "display_name": "Python 3",
   "language": "python",
   "name": "python3"
  },
  "language_info": {
   "codemirror_mode": {
    "name": "ipython",
    "version": 3
   },
   "file_extension": ".py",
   "mimetype": "text/x-python",
   "name": "python",
   "nbconvert_exporter": "python",
   "pygments_lexer": "ipython3",
   "version": "3.8.3"
  },
  "toc": {
   "base_numbering": 1,
   "nav_menu": {},
   "number_sections": true,
   "sideBar": true,
   "skip_h1_title": false,
   "title_cell": "Table of Contents",
   "title_sidebar": "Contents",
   "toc_cell": false,
   "toc_position": {},
   "toc_section_display": true,
   "toc_window_display": false
  }
 },
 "nbformat": 4,
 "nbformat_minor": 4
}
