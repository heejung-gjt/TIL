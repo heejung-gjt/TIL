{
 "cells": [
  {
   "cell_type": "markdown",
   "metadata": {},
   "source": [
    "### 삼항연산자 (Ternary operators)\n",
    "<br>\n",
    "\n",
    "```python\n",
    "print(<'참인 경우 값'> if <조건> else <'거짓인 경우 값'>)\n",
    "\n",
    "print('이부분은 True' if True else '이부분은 False')\n",
    "```\n",
    "<br>\n",
    "\n",
    "#### Conditional Expression (조건 표현식) \n",
    "- 가독성이 떨어지는 단점이 있다    \n",
    "<br>\n",
    "\n",
    "#### Conditional Statement (조건문)\n",
    "- 조건 표현식에 비해 줄은 더 길어지지만 가독성이 좋다\n",
    "\n",
    "#### Conditional Expressions in Conditional Expressions\n",
    "\n",
    "- #1과 #2는 같은 코드이다   \n",
    "\n",
    "```python\n",
    "a if 'condition' else b if 'condition' else c  #1\n",
    "\n",
    "if 'condition':   #2\n",
    "    result = a\n",
    "else:\n",
    "    if 'condition':\n",
    "        result = b\n",
    "    else:\n",
    "        result = c\n",
    "```\n"
   ]
  },
  {
   "cell_type": "code",
   "execution_count": 99,
   "metadata": {},
   "outputs": [
    {
     "name": "stdout",
     "output_type": "stream",
     "text": [
      "이부분은 True\n"
     ]
    }
   ],
   "source": [
    "# 실행 결과\n",
    "print('이부분은 True' if True else '이부분은 False')"
   ]
  },
  {
   "cell_type": "markdown",
   "metadata": {},
   "source": [
    "#### 삼항연산자 활용\n",
    "1. 입력한 값이 홀수인지 짝수인지 삼항연산자로 나타내보기"
   ]
  },
  {
   "cell_type": "code",
   "execution_count": 102,
   "metadata": {},
   "outputs": [
    {
     "name": "stdout",
     "output_type": "stream",
     "text": [
      "숫자입력 :1\n",
      "홀수이다\n",
      "숫자입력 :2\n",
      "짝수이다\n",
      "숫자입력 :3\n",
      "홀수이다\n",
      "숫자입력 :423804\n",
      "짝수이다\n",
      "숫자입력 :24280345\n",
      "홀수이다\n",
      "숫자입력 :0\n"
     ]
    }
   ],
   "source": [
    "while True:\n",
    "    num = int(input('숫자입력 :'))\n",
    "    if num == 0:\n",
    "        break\n",
    "    print('짝수이다' if num % 2 == 0 else '홀수이다')"
   ]
  },
  {
   "cell_type": "markdown",
   "metadata": {},
   "source": [
    "2. 입력한 값 중 큰수와 작은수 출력하기"
   ]
  },
  {
   "cell_type": "code",
   "execution_count": 119,
   "metadata": {},
   "outputs": [
    {
     "name": "stdout",
     "output_type": "stream",
     "text": [
      "숫자입력 :10 5\n",
      "가장 큰 수 : 10\n"
     ]
    }
   ],
   "source": [
    "num1, num2 = (map(int, input('숫자입력 :').split()))\n",
    "\n",
    "result = num1 if num1 > num2 else num2\n",
    "print(f'가장 큰 수 : {result}')"
   ]
  },
  {
   "cell_type": "markdown",
   "metadata": {},
   "source": [
    "3. 3개의 입력값 중 max, mid, min 구하기"
   ]
  },
  {
   "cell_type": "code",
   "execution_count": 121,
   "metadata": {
    "scrolled": true
   },
   "outputs": [
    {
     "name": "stdout",
     "output_type": "stream",
     "text": [
      "숫자입력 :3 45 6\n",
      "가장 큰값은 45이고 가장 작은값은 3이다\n"
     ]
    }
   ],
   "source": [
    "num1, num2, num3 = map(int,input('숫자입력 :').split())\n",
    "\n",
    "max = num1 if num1 > num2 else num2\n",
    "max = num3 if num3 > max else max\n",
    "\n",
    "min = num1 if num1 < num2 else num2\n",
    "min = num3 if num3 < min else min\n",
    "\n",
    "print(f'가장 큰값은 {max}이고 가장 작은값은 {min}이다')"
   ]
  },
  {
   "cell_type": "markdown",
   "metadata": {},
   "source": [
    "#### Conditional Statements와 Conditional Expressions 실습\n",
    "4. 사용자가 입력한 요일(월-일 or 월요일-일요일)에서 \n",
    "    - 평일인 경우 '평일이네요' 출력   \n",
    "    - 주말인 경우 '주말이네요' 출력   \n",
    "    - 잘못 입력한 경우 '요일을 입력하세요' 출력    "
   ]
  },
  {
   "cell_type": "code",
   "execution_count": 134,
   "metadata": {},
   "outputs": [
    {
     "name": "stdout",
     "output_type": "stream",
     "text": [
      "요일을 입력해주세요 :월\n",
      "평일이네요,..ㅜㅜ\n",
      "요일을 입력해주세요 :토\n",
      "주말이네요^^\n",
      "요일을 입력해주세요 :ㅑ\n",
      "요일을 입력해주세요 :0\n"
     ]
    }
   ],
   "source": [
    "# Conditional Statement\n",
    "while True:\n",
    "    \n",
    "    date = input('요일을 입력해주세요 :')\n",
    "    if date == '0':\n",
    "        break\n",
    "        \n",
    "    if date == '월'or date == '화' or date == '수'\\\n",
    "    or date == '목' or date == '금':\n",
    "        print('평일이네요,..ㅜㅜ')\n",
    "    elif date == '토' or date == '일':\n",
    "        print('주말이네요^^')"
   ]
  },
  {
   "cell_type": "code",
   "execution_count": 143,
   "metadata": {},
   "outputs": [
    {
     "name": "stdout",
     "output_type": "stream",
     "text": [
      "요일을 입력해주세요 :월\n",
      "평일이네요\n",
      "요일을 입력해주세요 :수\n",
      "평일이네요\n",
      "요일을 입력해주세요 :일\n",
      "주말이네요\n",
      "요일을 입력해주세요 :9\n",
      "요일을 입력해주세요\n",
      "요일을 입력해주세요 :0\n"
     ]
    }
   ],
   "source": [
    "# Conditional Expression\n",
    "\n",
    "while True:\n",
    "    date = input('요일을 입력해주세요 :')\n",
    "    \n",
    "    if date == '0':\n",
    "        break\n",
    "        \n",
    "    print('평일이네요') if date == '월'or date == '화' or date == '수'or\\\n",
    "    date == '목' or date == '금' else print('주말이네요') if date == '토' or\\\n",
    "    date =='일' else print('요일을 입력해주세요') "
   ]
  },
  {
   "cell_type": "markdown",
   "metadata": {},
   "source": [
    "### for,  while문"
   ]
  },
  {
   "cell_type": "code",
   "execution_count": 144,
   "metadata": {},
   "outputs": [
    {
     "name": "stdout",
     "output_type": "stream",
     "text": [
      "55\n"
     ]
    }
   ],
   "source": [
    "# for문으로 1~10 사이의 합을 구해보자\n",
    "\n",
    "sum = 0\n",
    "for i in range(11):\n",
    "    sum+=i\n",
    "print(sum)"
   ]
  },
  {
   "cell_type": "code",
   "execution_count": 151,
   "metadata": {},
   "outputs": [
    {
     "name": "stdout",
     "output_type": "stream",
     "text": [
      "55\n"
     ]
    }
   ],
   "source": [
    "#while문으로 1~10 사이의 합을 구해보자\n",
    "\n",
    "sum = 0\n",
    "i = 1\n",
    "while i < 11:\n",
    "    sum+=i\n",
    "    i+=1\n",
    "print(sum)"
   ]
  },
  {
   "cell_type": "markdown",
   "metadata": {},
   "source": [
    "#### for, while문 실습\n",
    "1. 사용자가 입력한 임의의 정수(2-100)에 대해 팩토리얼 연산을 수행해라    \n",
    "(팩토리얼 : 1부터 n까지의 정수를 곱하는 연산이다 5!는 1*2*3*4*5)\n",
    "<br>\n",
    "\n",
    "2. 다음 2차원 list에 대해 각 요소의 합을 구해라   "
   ]
  },
  {
   "cell_type": "code",
   "execution_count": 156,
   "metadata": {},
   "outputs": [
    {
     "name": "stdout",
     "output_type": "stream",
     "text": [
      "93326215443944152681699238856266700490715968264381621468592963895217599993229915608941463976156518286253697920827223758251185210916864000000000000000000000000\n"
     ]
    }
   ],
   "source": [
    "#1\n",
    "\n",
    "fac = 1\n",
    "for i in range(2,101):\n",
    "    fac*=i\n",
    "print(fac)"
   ]
  },
  {
   "cell_type": "code",
   "execution_count": 203,
   "metadata": {},
   "outputs": [
    {
     "name": "stdout",
     "output_type": "stream",
     "text": [
      "1070합계 : 8\n",
      "0209합계 : 11\n",
      "0637합계 : 16\n",
      "4051합계 : 10\n"
     ]
    }
   ],
   "source": [
    "#2\n",
    "list_ =[\n",
    "    [1,0,7,0],\n",
    "    [0,2,0,9],\n",
    "    [0,6,3,7],\n",
    "    [4,0,5,1],\n",
    "]\n",
    "for i in list_:\n",
    "    sum = 0\n",
    "    for j in i:   \n",
    "        print(j,end='')\n",
    "        sum+=j\n",
    "        \n",
    "    print(f'합계 : {sum}')   "
   ]
  },
  {
   "cell_type": "markdown",
   "metadata": {},
   "source": [
    "### Dictionary with Iterations"
   ]
  },
  {
   "cell_type": "markdown",
   "metadata": {},
   "source": [
    "#### txt에서 작성한 word list로 얻기\n",
    "\n",
    "#### pseudocode (슈도코) 작성\n",
    "- 작성한 text파일 ./..txt 가져오기    \n",
    "- 가져온 파일 한줄씩 변수에 저장하기    \n",
    "- 저장한 변수 \\n-> ' '으로 교체 후 생성한 list에 담기  \n",
    "<br>\n",
    "\n",
    "#### 코드 작성\n",
    "\n",
    "```python\n",
    "a_list = []  # 내용이 들어갈 list 생성\n",
    "\n",
    "with(open('./a_word_txt()') as f:  # 해당 디렉토리에 있는 txt 파일을 불러온다\n",
    "     textlines = f.readlines()  # txt 내용을 한줄씩 읽어와 변수에 저장한다\n",
    "     print(textlines)  # ['hi my name is son hee jung\\n', 'nice to meet you'] 줄바뀜 표시는 \\n으로 되어 있는 것을 볼 수 있다\n",
    "     for item in textlines:  \"\"\" hi my name is son hee jung\n",
    "\n",
    "                                 nice to meet you 로 출력된다\"\"\"\n",
    "     \n",
    "     a_list.append(item.replace('\\n','')  # ['hi my name is son hee jung', 'nice to meet you'] 처럼 \\n이 ' '으로 바뀌어 출력된다  \n",
    "```"
   ]
  },
  {
   "cell_type": "code",
   "execution_count": 224,
   "metadata": {},
   "outputs": [
    {
     "name": "stdout",
     "output_type": "stream",
     "text": [
      "['hi my name is son hee jung', 'nice to meet you']\n"
     ]
    }
   ],
   "source": [
    "# get word list\n",
    "a_list = []\n",
    "with open('./a_word_list.txt') as f:\n",
    "    textlines = f.readlines()\n",
    "    for item in textlines:\n",
    "#         print(item)\n",
    "        a_list.append(item.replace('\\n',''))\n",
    "print(a_list)"
   ]
  },
  {
   "cell_type": "markdown",
   "metadata": {},
   "source": [
    "#### 얻은 list 길이별로 단어 수 구하기 (dic에 넣기)"
   ]
  },
  {
   "cell_type": "code",
   "execution_count": 262,
   "metadata": {},
   "outputs": [
    {
     "name": "stdout",
     "output_type": "stream",
     "text": [
      "{26: 1, 16: 1}\n"
     ]
    }
   ],
   "source": [
    "# 길이별 단어 수 구하기\n",
    "len_count = {}\n",
    "\n",
    "for i in map(len, a_list):\n",
    "    if i in len_count:\n",
    "        len_count[i]+=1\n",
    "    else:\n",
    "        len_count[i] = 1\n",
    "print(len_count)"
   ]
  },
  {
   "cell_type": "code",
   "execution_count": 212,
   "metadata": {},
   "outputs": [
    {
     "name": "stdout",
     "output_type": "stream",
     "text": [
      "{26: 1, 16: 1}\n"
     ]
    }
   ],
   "source": [
    "#길이별 단어 수 구하기 with get\n",
    "len_count = {}\n",
    "for i in map(len, a_words):\n",
    "    len_count[i] = len_count.get(i,0) +1\n",
    "print(len_count)"
   ]
  },
  {
   "cell_type": "markdown",
   "metadata": {},
   "source": [
    "#### 길이별 단어 분류하기"
   ]
  },
  {
   "cell_type": "code",
   "execution_count": 265,
   "metadata": {},
   "outputs": [
    {
     "name": "stdout",
     "output_type": "stream",
     "text": [
      "{26: ['hi my name is son hee jung'], 16: ['nice to meet you']}\n"
     ]
    }
   ],
   "source": [
    "#길이별 단어 분류하기\n",
    "a_word_by_len = {}\n",
    "for word in a_list:\n",
    "    a_word_by_len.setdefault(len(word),[]).append(word)\n",
    "print(a_word_by_len)"
   ]
  }
 ],
 "metadata": {
  "kernelspec": {
   "display_name": "Python 3",
   "language": "python",
   "name": "python3"
  },
  "language_info": {
   "codemirror_mode": {
    "name": "ipython",
    "version": 3
   },
   "file_extension": ".py",
   "mimetype": "text/x-python",
   "name": "python",
   "nbconvert_exporter": "python",
   "pygments_lexer": "ipython3",
   "version": "3.8.3"
  },
  "toc": {
   "base_numbering": 1,
   "nav_menu": {},
   "number_sections": true,
   "sideBar": true,
   "skip_h1_title": false,
   "title_cell": "Table of Contents",
   "title_sidebar": "Contents",
   "toc_cell": false,
   "toc_position": {},
   "toc_section_display": true,
   "toc_window_display": false
  }
 },
 "nbformat": 4,
 "nbformat_minor": 4
}
