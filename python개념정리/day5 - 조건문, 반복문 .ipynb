{
 "cells": [
  {
   "cell_type": "markdown",
   "metadata": {},
   "source": [
    "### 삼항연산자 (Ternary operators)\n",
    "<br>\n",
    "\n",
    "```python\n",
    "print(<'참인 경우 값'> if <조건> else <'거짓인 경우 값'>)\n",
    "\n",
    "print('이부분은 True' if True else '이부분은 False')\n",
    "```\n",
    "<br>\n",
    "\n",
    "#### Conditional Expression (조건 표현식) \n",
    "- 가독성이 떨어지는 단점이 있다    \n",
    "<br>\n",
    "\n",
    "#### Conditional Statement (조건문)\n",
    "- 조건 표현식에 비해 줄은 더 길어지지만 가독성이 좋다\n",
    "\n",
    "#### Conditional Expressions in Conditional Expressions\n",
    "\n",
    "- #1과 #2는 같은 코드이다   \n",
    "\n",
    "```python\n",
    "a if 'condition' else b if 'condition' else c  #1\n",
    "\n",
    "if 'condition':   #2\n",
    "    result = a\n",
    "else:\n",
    "    if 'condition':\n",
    "        result = b\n",
    "    else:\n",
    "        result = c\n",
    "```\n"
   ]
  },
  {
   "cell_type": "code",
   "execution_count": null,
   "metadata": {},
   "outputs": [],
   "source": [
    "# 실행 결과\n",
    "print('이부분은 True' if True else '이부분은 False')"
   ]
  },
  {
   "cell_type": "markdown",
   "metadata": {},
   "source": [
    "#### 삼항연산자 활용\n",
    "1. 입력한 값이 홀수인지 짝수인지 삼항연산자로 나타내보기"
   ]
  },
  {
   "cell_type": "code",
   "execution_count": null,
   "metadata": {},
   "outputs": [],
   "source": [
    "while True:\n",
    "    num = int(input('숫자입력 :'))\n",
    "    if num == 0:\n",
    "        break\n",
    "    print('짝수이다' if num % 2 == 0 else '홀수이다')"
   ]
  },
  {
   "cell_type": "markdown",
   "metadata": {},
   "source": [
    "2. 입력한 값 중 큰수와 작은수 출력하기"
   ]
  },
  {
   "cell_type": "code",
   "execution_count": null,
   "metadata": {},
   "outputs": [],
   "source": [
    "num1, num2 = (map(int, input('숫자입력 :').split()))\n",
    "\n",
    "result = num1 if num1 > num2 else num2\n",
    "print(f'가장 큰 수 : {result}')"
   ]
  },
  {
   "cell_type": "markdown",
   "metadata": {},
   "source": [
    "3. 3개의 입력값 중 max, mid, min 구하기"
   ]
  },
  {
   "cell_type": "code",
   "execution_count": null,
   "metadata": {
    "scrolled": true
   },
   "outputs": [],
   "source": [
    "num1, num2, num3 = map(int,input('숫자입력 :').split())\n",
    "\n",
    "max = num1 if num1 > num2 else num2\n",
    "max = num3 if num3 > max else max\n",
    "\n",
    "min = num1 if num1 < num2 else num2\n",
    "min = num3 if num3 < min else min\n",
    "\n",
    "print(f'가장 큰값은 {max}이고 가장 작은값은 {min}이다')"
   ]
  },
  {
   "cell_type": "markdown",
   "metadata": {},
   "source": [
    "#### Conditional Statements와 Conditional Expressions 실습\n",
    "4. 사용자가 입력한 요일(월-일 or 월요일-일요일)에서 \n",
    "    - 평일인 경우 '평일이네요' 출력   \n",
    "    - 주말인 경우 '주말이네요' 출력   \n",
    "    - 잘못 입력한 경우 '요일을 입력하세요' 출력    \n",
    "    \n",
    "    아래의 코드 좋지 못한 코드 ❌ "
   ]
  },
  {
   "cell_type": "code",
   "execution_count": null,
   "metadata": {},
   "outputs": [],
   "source": [
    "# Conditional Statement\n",
    "while True:\n",
    "    \n",
    "    date = input('요일을 입력해주세요 :')\n",
    "    if date == '0':\n",
    "        break\n",
    "        \n",
    "    if date == '월'or date == '화' or date == '수'\\\n",
    "    or date == '목' or date == '금':\n",
    "        print('평일이네요,..ㅜㅜ')\n",
    "    elif date == '토' or date == '일':\n",
    "        print('주말이네요^^')"
   ]
  },
  {
   "cell_type": "code",
   "execution_count": null,
   "metadata": {},
   "outputs": [],
   "source": [
    "# Conditional Expression\n",
    "\n",
    "while True:\n",
    "    date = input('요일을 입력해주세요 :')\n",
    "    \n",
    "    if date == '0':\n",
    "        break\n",
    "        \n",
    "    print('평일이네요') if date == '월'or date == '화' or date == '수'or\\\n",
    "    date == '목' or date == '금' else print('주말이네요') if date == '토' or\\\n",
    "    date =='일' else print('요일을 입력해주세요') "
   ]
  },
  {
   "cell_type": "markdown",
   "metadata": {},
   "source": [
    "### Membership Operator 를 이용해서 코드를 작성해주자   \n",
    "#### weekday = ('월','화','수','목','금') 지정해주고 시작 할 수 있다 . 이미 일주일은 정해져 있기 때문에 가능하다"
   ]
  },
  {
   "cell_type": "code",
   "execution_count": null,
   "metadata": {},
   "outputs": [],
   "source": [
    "day = input('알고 싶은 요일을 입력하세요 :')\n",
    "weekday = ('월','화','수','목','금')\n",
    "weekend = ('토','일')\n",
    "\n",
    "'평일입니다' if day in weekday else '주말입니다' if day in weekend else '요일입력 바람'"
   ]
  },
  {
   "cell_type": "markdown",
   "metadata": {},
   "source": [
    "### for,  while문"
   ]
  },
  {
   "cell_type": "code",
   "execution_count": null,
   "metadata": {},
   "outputs": [],
   "source": [
    "# for문으로 1~10 사이의 합을 구해보자\n",
    "# 1~10 사이의 합계를 구하는 것이므로 명시적으로 나타내기 위해 10+1로 표현해주자\n",
    "\n",
    "sum = 0\n",
    "for i in range(10+1):\n",
    "    sum+=i\n",
    "print(sum)"
   ]
  },
  {
   "cell_type": "code",
   "execution_count": null,
   "metadata": {},
   "outputs": [],
   "source": [
    "# for문으로 1~10사이의 합을 구할때 시간 복잡도를 계산하여 코드를 작성하는 자세가 필요하다\n",
    "number = 10\n",
    "print(number*(number+1)/2)"
   ]
  },
  {
   "cell_type": "code",
   "execution_count": null,
   "metadata": {},
   "outputs": [],
   "source": [
    "#while문으로 1~10 사이의 합을 구해보자\n",
    "\n",
    "sum = 0\n",
    "i = 1\n",
    "while i < 11:\n",
    "    sum+=i\n",
    "    i+=1\n",
    "print(sum)"
   ]
  },
  {
   "cell_type": "markdown",
   "metadata": {},
   "source": [
    "#### for, while문 실습\n",
    "1. 사용자가 입력한 임의의 정수(2-100)에 대해 팩토리얼 연산을 수행해라    \n",
    "(팩토리얼 : 1부터 n까지의 정수를 곱하는 연산이다 5!는 1*2*3*4*5)\n",
    "<br>\n",
    "\n",
    "2. 다음 2차원 list에 대해 각 요소의 합을 구해라  \n",
    "lists_in_list = [   \n",
    "    [1, 0, 7, 0],   \n",
    "    [0, 2, 0, 9],   \n",
    "    [0, 6, 3, 7],   \n",
    "    [4, 0, 5, 1],   \n",
    "]\n"
   ]
  },
  {
   "cell_type": "code",
   "execution_count": null,
   "metadata": {},
   "outputs": [],
   "source": [
    "#1\n",
    "num = int(input())\n",
    "fac = 1\n",
    "for i in range(1,num+1):\n",
    "    fac*=i\n",
    "print(fac)"
   ]
  },
  {
   "cell_type": "code",
   "execution_count": null,
   "metadata": {},
   "outputs": [],
   "source": [
    "#2\n",
    "lists =[\n",
    "    [1,0,7,0],\n",
    "    [0,2,0,9],\n",
    "    [0,6,3,7],\n",
    "    [4,0,5,1],\n",
    "]\n",
    "result = 0\n",
    "for list_ in lists:\n",
    "    sum = 0\n",
    "    for item in list_:   \n",
    "        print(item,end='')\n",
    "        sum+=item\n",
    "        result+=item\n",
    "    print(f'합계 : {sum}')\n",
    "print(result)"
   ]
  },
  {
   "cell_type": "code",
   "execution_count": 17,
   "metadata": {},
   "outputs": [],
   "source": [
    "#다시 해보기\n",
    "# 2번 리펙토링 > 이중for문 쓰지않고  sum 메소드를 하나 씀으로써 for문을 하나 없앨 수 있다\n",
    "lists_in_list = [\n",
    "    [1, 0, 7, 0],\n",
    "    [0, 2, 0, 9],\n",
    "    [0, 6, 3, 7],\n",
    "    [4, 0, 5, 1],\n",
    "]\n",
    "\n",
    "result = 0\n",
    "for list_ in lists_in_list:\n",
    "    result += sum(list_)\n",
    "    print(result)"
   ]
  },
  {
   "cell_type": "markdown",
   "metadata": {},
   "source": [
    "####  Fizzbuzz\n",
    "1부터 100까지 반복하면서,   \n",
    "3의 배수 = \"Fizz\"   \n",
    "5의 배수 = \"Buzz\"   \n",
    "15의 배수 = \"FizzBuzz\"    \n",
    "나머지 = 그 숫자   \n",
    "<br>\n",
    "\n",
    "👉 1부터 30까지 3의 배수는? 5의 배수는 몇개인지 생각해보자   \n",
    "👉 좀 더 많은 배수를 가지고 있는 수를 위로 올려서 출력해준다      \n",
    "👉 조건문 반복문 이용할때 걸리는 횟수가 많은 수를 위로 올려준다. 이때 15는 무     조건위에 !!    \n",
    "<br>\n",
    "\n",
    "'hello'*True + 'world'*True -> hello출력 (이용해서 fizzbuzz 풀어보자)"
   ]
  },
  {
   "cell_type": "code",
   "execution_count": 20,
   "metadata": {},
   "outputs": [
    {
     "name": "stdout",
     "output_type": "stream",
     "text": [
      "1\n",
      "2\n",
      "Fizz\n",
      "4\n",
      "Buzz\n",
      "Fizz\n",
      "7\n",
      "8\n",
      "Fizz\n",
      "Buzz\n",
      "11\n",
      "Fizz\n",
      "13\n",
      "14\n",
      "FIZZBUZZ\n",
      "16\n",
      "17\n",
      "Fizz\n",
      "19\n",
      "Buzz\n",
      "Fizz\n",
      "22\n",
      "23\n",
      "Fizz\n",
      "Buzz\n",
      "26\n",
      "Fizz\n",
      "28\n",
      "29\n",
      "FIZZBUZZ\n"
     ]
    }
   ],
   "source": [
    "for i in range(1,30+1):\n",
    "    if i%15==0:\n",
    "        print('FIZZBUZZ')\n",
    "    elif i%3==0:\n",
    "        print('Fizz')\n",
    "    elif i%5==0:\n",
    "        print('Buzz')\n",
    "    else:\n",
    "        print(i)"
   ]
  },
  {
   "cell_type": "code",
   "execution_count": 21,
   "metadata": {},
   "outputs": [
    {
     "name": "stdout",
     "output_type": "stream",
     "text": [
      "1\n",
      "2\n",
      "fizz\n",
      "4\n",
      "buzz\n",
      "fizz\n",
      "7\n",
      "8\n",
      "fizz\n",
      "buzz\n",
      "11\n",
      "fizz\n",
      "13\n",
      "14\n",
      "fizzbuzz\n",
      "16\n",
      "17\n",
      "fizz\n",
      "19\n",
      "buzz\n",
      "fizz\n",
      "22\n",
      "23\n",
      "fizz\n",
      "buzz\n",
      "26\n",
      "fizz\n",
      "28\n",
      "29\n",
      "fizzbuzz\n"
     ]
    }
   ],
   "source": [
    "#fizzbuzz 문제 수정 (복잡도 생각해보기)\n",
    "for i in range(1, 30+1):\n",
    "    if i%3 ==0 or i%5 ==0:\n",
    "        print('fizz'*(i%3==0) + 'buzz'*(i%5==0)) \n",
    "    # 만약 정수i가 3으로 나누어 떨어진다면 fizz를 출력, 5로 나누어 떨어진다면 buzz를 출력하라는 코드\n",
    "    else:\n",
    "        print(i)"
   ]
  },
  {
   "cell_type": "markdown",
   "metadata": {},
   "source": [
    "### Dictionary with Iterations"
   ]
  },
  {
   "cell_type": "markdown",
   "metadata": {},
   "source": [
    "#### txt에서 작성한 word list로 얻기\n",
    "\n",
    "#### pseudocode (슈도코) 작성\n",
    "- 작성한 text파일 ./..txt 가져오기    \n",
    "- 가져온 파일 한줄씩 변수에 저장하기    \n",
    "- 저장한 변수 \\n-> ' '으로 교체 후 생성한 list에 담기  \n",
    "<br>\n",
    "\n",
    "#### 코드 작성\n",
    "\n",
    "```python\n",
    "a_list = []  # 내용이 들어갈 list 생성\n",
    "\n",
    "with(open('./a_word_txt()') as f:  # 해당 디렉토리에 있는 txt 파일을 불러온다\n",
    "     textlines = f.readlines()  # txt 내용을 한줄씩 읽어와 변수에 저장한다\n",
    "     print(textlines)  # ['hi my name is son hee jung\\n', 'nice to meet you'] 줄바뀜 표시는 \\n으로 되어 있는 것을 볼 수 있다\n",
    "     for item in textlines:  \"\"\" hi my name is son hee jung\n",
    "\n",
    "                                 nice to meet you 로 출력된다\"\"\"\n",
    "     \n",
    "     a_list.append(item.replace('\\n','')  # ['hi my name is son hee jung', 'nice to meet you'] 처럼 \\n이 ' '으로 바뀌어 출력된다  \n",
    "```"
   ]
  },
  {
   "cell_type": "code",
   "execution_count": null,
   "metadata": {},
   "outputs": [],
   "source": [
    "# get word list\n",
    "a_list = []\n",
    "with open('./a_word_list.txt') as f:\n",
    "    textlines = f.readlines()\n",
    "    for item in textlines:\n",
    "#         print(item)\n",
    "        a_list.append(item.replace('\\n',''))\n",
    "print(a_list)"
   ]
  },
  {
   "cell_type": "markdown",
   "metadata": {},
   "source": [
    "#### 얻은 list 길이별로 단어 수 구하기 (dic에 넣기)"
   ]
  },
  {
   "cell_type": "code",
   "execution_count": null,
   "metadata": {},
   "outputs": [],
   "source": [
    "# 길이별 단어 수 구하기\n",
    "len_count = {}\n",
    "\n",
    "for i in map(len, a_list):\n",
    "    if i in len_count:\n",
    "        len_count[i]+=1\n",
    "    else:\n",
    "        len_count[i] = 1\n",
    "print(len_count)"
   ]
  },
  {
   "cell_type": "code",
   "execution_count": null,
   "metadata": {},
   "outputs": [],
   "source": [
    "#길이별 단어 수 구하기 with get\n",
    "len_count = {}\n",
    "for i in map(len, a_list):\n",
    "    len_count[i] = len_count.get(i,0) +1\n",
    "print(len_count)"
   ]
  },
  {
   "cell_type": "markdown",
   "metadata": {},
   "source": [
    "#### 길이별 단어 분류하기"
   ]
  },
  {
   "cell_type": "code",
   "execution_count": null,
   "metadata": {},
   "outputs": [],
   "source": [
    "#길이별 단어 분류하기\n",
    "a_word_by_len = {}\n",
    "for word in a_list:\n",
    "    a_word_by_len.setdefault(len(word),[]).append(word)\n",
    "print(a_word_by_len)"
   ]
  }
 ],
 "metadata": {
  "kernelspec": {
   "display_name": "Python 3",
   "language": "python",
   "name": "python3"
  },
  "language_info": {
   "codemirror_mode": {
    "name": "ipython",
    "version": 3
   },
   "file_extension": ".py",
   "mimetype": "text/x-python",
   "name": "python",
   "nbconvert_exporter": "python",
   "pygments_lexer": "ipython3",
   "version": "3.8.3"
  },
  "toc": {
   "base_numbering": 1,
   "nav_menu": {},
   "number_sections": true,
   "sideBar": true,
   "skip_h1_title": false,
   "title_cell": "Table of Contents",
   "title_sidebar": "Contents",
   "toc_cell": false,
   "toc_position": {},
   "toc_section_display": true,
   "toc_window_display": false
  }
 },
 "nbformat": 4,
 "nbformat_minor": 4
}
