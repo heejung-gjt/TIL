{
 "cells": [
  {
   "cell_type": "markdown",
   "metadata": {},
   "source": [
    "1. Convert string input to expected output with python\n",
    "\n",
    "    - input    = ``\"aBc\"``\n",
    "    - Expected = ``\"AbC\"``\n",
    "\n",
    "\n",
    "2. Convert string input to expected output with python\n",
    "\n",
    "    - input    = ``\"AbC\"``\n",
    "    - Expected = ``\"aBc\"``\n",
    "\n",
    "\n",
    "3. Convert string input to expected output with python\n",
    "\n",
    "    - input    = ``['A', 'b', 'C']``\n",
    "    - Expected = ``\"['a', 'B', 'c']\"``\n",
    "\n",
    "4. Convert string input to expected output with python\n",
    "\n",
    "    - input    = ``\"AbCdEf\"``\n",
    "    - Expected = ``\"aBcDeF\"``"
   ]
  },
  {
   "cell_type": "code",
   "execution_count": 1,
   "metadata": {},
   "outputs": [
    {
     "name": "stdout",
     "output_type": "stream",
     "text": [
      "AbC\n"
     ]
    }
   ],
   "source": [
    "#1\n",
    "\n",
    "string_in_A = 'aBc'\n",
    "\n",
    "for word in string_in_A:\n",
    "    if word.isupper():\n",
    "        new_word = word.lower()\n",
    "        string_in_A = string_in_A.replace(word, new_word)\n",
    "    elif word.islower():\n",
    "        new_word = word.upper()\n",
    "        string_in_A = string_in_A.replace(word, new_word)\n",
    "    \n",
    "print(string_in_A)"
   ]
  },
  {
   "cell_type": "code",
   "execution_count": 4,
   "metadata": {},
   "outputs": [
    {
     "name": "stdout",
     "output_type": "stream",
     "text": [
      "aBc\n"
     ]
    }
   ],
   "source": [
    "#2\n",
    "\n",
    "string_in_B = 'AbC'\n",
    "\n",
    "for word in string_in_B:\n",
    "    if word.isupper():\n",
    "        new_word = word.lower()\n",
    "        string_in_B = string_in_B.replace(word, new_word)\n",
    "    elif word.islower():\n",
    "        new_word = word.upper()\n",
    "        string_in_B = string_in_B.replace(word, new_word)\n",
    "    \n",
    "print(string_in_B)"
   ]
  },
  {
   "cell_type": "code",
   "execution_count": 3,
   "metadata": {},
   "outputs": [
    {
     "name": "stdout",
     "output_type": "stream",
     "text": [
      "['a', 'B', 'c']\n"
     ]
    }
   ],
   "source": [
    "#3\n",
    "\n",
    "string_in_C = ['A', 'b', 'C']\n",
    "\n",
    "string_in_C = ' '.join(string_in_C)\n",
    "\n",
    "for word in string_in_C:\n",
    "    if word.isupper():\n",
    "        new_word = word.lower()\n",
    "        string_in_C = string_in_C.replace(word, new_word)\n",
    "    elif word.islower():\n",
    "        new_word = word.upper()\n",
    "        string_in_C = string_in_C.replace(word, new_word)\n",
    "\n",
    "string_in_C = string_in_C.split()\n",
    "print(string_in_C)"
   ]
  },
  {
   "cell_type": "code",
   "execution_count": 76,
   "metadata": {},
   "outputs": [
    {
     "name": "stdout",
     "output_type": "stream",
     "text": [
      "aBcDeF\n"
     ]
    }
   ],
   "source": [
    "# 4\n",
    "\n",
    "strings_in_D = 'AbCdEf'\n",
    "\n",
    "for word in strings_in_D:\n",
    "    if word.isupper():\n",
    "        new_word = word.lower()\n",
    "        strings_in_D = strings_in_D.replace(word, new_word)\n",
    "    elif word.islower():\n",
    "        new_word = word.upper()\n",
    "        strings_in_D = strings_in_D.replace(word, new_word)\n",
    "    \n",
    "print(strings_in_D)"
   ]
  }
 ],
 "metadata": {
  "kernelspec": {
   "display_name": "Python 3",
   "language": "python",
   "name": "python3"
  },
  "language_info": {
   "codemirror_mode": {
    "name": "ipython",
    "version": 3
   },
   "file_extension": ".py",
   "mimetype": "text/x-python",
   "name": "python",
   "nbconvert_exporter": "python",
   "pygments_lexer": "ipython3",
   "version": "3.8.3"
  },
  "toc": {
   "base_numbering": 1,
   "nav_menu": {},
   "number_sections": true,
   "sideBar": true,
   "skip_h1_title": false,
   "title_cell": "Table of Contents",
   "title_sidebar": "Contents",
   "toc_cell": false,
   "toc_position": {},
   "toc_section_display": true,
   "toc_window_display": false
  }
 },
 "nbformat": 4,
 "nbformat_minor": 5
}
